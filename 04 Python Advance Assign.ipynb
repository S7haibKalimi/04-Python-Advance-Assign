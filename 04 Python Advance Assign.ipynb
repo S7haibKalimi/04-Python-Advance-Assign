{
 "cells": [
  {
   "cell_type": "markdown",
   "id": "10396248",
   "metadata": {},
   "source": [
    "# Q1. Which two operator overloading methods can you use in your classes to support iteration?"
   ]
  },
  {
   "cell_type": "markdown",
   "id": "2e8df5fe",
   "metadata": {},
   "source": [
    "__iter__ and __next__ "
   ]
  },
  {
   "cell_type": "code",
   "execution_count": 3,
   "id": "93e38fe1",
   "metadata": {},
   "outputs": [],
   "source": [
    "# __iter__ and __next__"
   ]
  },
  {
   "cell_type": "markdown",
   "id": "66059ed9",
   "metadata": {},
   "source": [
    "# Q2. In what contexts do the two operator overloading methods manage printing?"
   ]
  },
  {
   "cell_type": "markdown",
   "id": "b82f837d",
   "metadata": {},
   "source": [
    "They iterate the whole function i.e. they go through each and every entity exists inside the function and shortlists the required entity and get them printed"
   ]
  },
  {
   "cell_type": "markdown",
   "id": "6de44acb",
   "metadata": {},
   "source": [
    "# Q3. In a class, how do you intercept slice operations?"
   ]
  },
  {
   "cell_type": "markdown",
   "id": "abe51497",
   "metadata": {},
   "source": [
    "Slice Operations are performed by switching the starting and ending points of a function by defining a new range which is other than the default one. like:\n"
   ]
  },
  {
   "cell_type": "code",
   "execution_count": 5,
   "id": "4c5af01b",
   "metadata": {},
   "outputs": [
    {
     "data": {
      "text/plain": [
       "[4, 2, 4]"
      ]
     },
     "execution_count": 5,
     "metadata": {},
     "output_type": "execute_result"
    }
   ],
   "source": [
    "a = [21,5,2,5,156,4,2,4,23,1,56,63]\n",
    "a[5:8]\n",
    "# it will return the entities form index no. 5 to the index no. 8"
   ]
  },
  {
   "cell_type": "markdown",
   "id": "5c6f033a",
   "metadata": {},
   "source": [
    "# Q4. In a class, how do you capture in-place addition?"
   ]
  },
  {
   "cell_type": "code",
   "execution_count": 8,
   "id": "d915aab5",
   "metadata": {},
   "outputs": [],
   "source": [
    "# By using a simle += operator\n",
    "a = 2\n",
    "b = 3 \n",
    "a += b"
   ]
  },
  {
   "cell_type": "markdown",
   "id": "96a61500",
   "metadata": {},
   "source": [
    "# Q5. When is it appropriate to use operator overloading?"
   ]
  },
  {
   "cell_type": "markdown",
   "id": "da753cc1",
   "metadata": {},
   "source": [
    "When we want to use our code multiple times with some simple changes, we can define it once and can reuse it multile times by overloading it with minnor changes simply."
   ]
  },
  {
   "cell_type": "code",
   "execution_count": null,
   "id": "cd5d9243",
   "metadata": {},
   "outputs": [],
   "source": []
  }
 ],
 "metadata": {
  "kernelspec": {
   "display_name": "Python 3 (ipykernel)",
   "language": "python",
   "name": "python3"
  },
  "language_info": {
   "codemirror_mode": {
    "name": "ipython",
    "version": 3
   },
   "file_extension": ".py",
   "mimetype": "text/x-python",
   "name": "python",
   "nbconvert_exporter": "python",
   "pygments_lexer": "ipython3",
   "version": "3.9.12"
  }
 },
 "nbformat": 4,
 "nbformat_minor": 5
}
